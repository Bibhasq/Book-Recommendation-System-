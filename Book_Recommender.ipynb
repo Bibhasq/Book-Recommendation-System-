{
 "cells": [
  {
   "cell_type": "markdown",
   "id": "965ad6c3-4d31-4d7d-8ffd-1eecffba9836",
   "metadata": {},
   "source": [
    "## \"3 types of Filterings (for recommendation systems)\"\n",
    "#### 1. Content based or item Based  : \n",
    "            In this algorithm we try finding item look alike . Once we have item look alike matrix ,we can easily recommend alike items to customer who has purchased any item from the store . (let say amazon flipkart fro selling similar products)\n",
    "#### 2. Collaborative Filtering :\n",
    "            Here , we try to search for look alike customers and offer products based n what his/her look alike has chosen . This algorithm is very effective but takes a lot of time and recources.(e.g. movies , books etc.)\n",
    "#### 3. Hybrid :\n",
    "            combinations of both (some of industries or saying when we need the combination of both)\n",
    "            "
   ]
  },
  {
   "cell_type": "markdown",
   "id": "b2021904-1fea-42a0-9ad3-464b1e3cad79",
   "metadata": {},
   "source": [
    "### on kaggle dataset of books"
   ]
  },
  {
   "cell_type": "code",
   "execution_count": 4,
   "id": "8702e593-93d0-4928-b761-188b4b96523a",
   "metadata": {},
   "outputs": [],
   "source": [
    "import pandas as pd \n",
    "import numpy as np\n",
    "import warnings\n",
    "warnings.filterwarnings(action = 'ignore') #ignoring the warnings through out this model building task"
   ]
  },
  {
   "cell_type": "code",
   "execution_count": 5,
   "id": "1c58e61b-5b87-45ae-8e63-6f5997d48114",
   "metadata": {},
   "outputs": [],
   "source": [
    "# pipe-line for load data from various extension and renaming the col. in lowercase also removing and replacing 'spaces' and '-' with '_' \n",
    "def load_dataset(file_path, **kwargs):\n",
    "    \"\"\"\n",
    "    Load data from various file formats while handling common issues.\n",
    "    \n",
    "    Args:\n",
    "        file_path (str): Path to the data file\n",
    "        **kwargs: Additional arguments to pass to the appropriate pandas reader\n",
    "    \n",
    "    Returns:\n",
    "        pd.DataFrame: Loaded and initially processed dataframe\n",
    "    \"\"\"\n",
    "    import pandas as pd\n",
    "    from pathlib import Path\n",
    "    \n",
    "    file_type = Path(file_path).suffix.lower()\n",
    "    \n",
    "    # Dictionary of file handlers\n",
    "    handlers = {\n",
    "        '.csv': pd.read_csv,\n",
    "        '.xlsx': pd.read_excel,\n",
    "        '.json': pd.read_json,\n",
    "        '.parquet': pd.read_parquet\n",
    "    }\n",
    "    \n",
    "    # Get appropriate reader function\n",
    "    reader = handlers[file_type]\n",
    "    if reader is None:\n",
    "        raise ValueError(f\"Unsupported file type: {file_type}\")\n",
    "    \n",
    "    # Load data with common cleaning parameters\n",
    "    df = reader(file_path, **kwargs)\n",
    "    \n",
    "    # Initial cleaning steps\n",
    "    df.columns = df.columns.str.strip().str.lower().str.replace('-','_')  # Standardize column names\n",
    "    df = df.replace('', pd.NA)  # Convert empty strings to NA\n",
    "    \n",
    "    return df"
   ]
  },
  {
   "cell_type": "markdown",
   "id": "a25bc9e2-68da-486d-be4a-adf4587e2375",
   "metadata": {},
   "source": [
    "## Load Books Dataset"
   ]
  },
  {
   "cell_type": "code",
   "execution_count": 7,
   "id": "0fa82b14-b095-471d-a437-388a622114f3",
   "metadata": {},
   "outputs": [
    {
     "data": {
      "text/html": [
       "<div>\n",
       "<style scoped>\n",
       "    .dataframe tbody tr th:only-of-type {\n",
       "        vertical-align: middle;\n",
       "    }\n",
       "\n",
       "    .dataframe tbody tr th {\n",
       "        vertical-align: top;\n",
       "    }\n",
       "\n",
       "    .dataframe thead th {\n",
       "        text-align: right;\n",
       "    }\n",
       "</style>\n",
       "<table border=\"1\" class=\"dataframe\">\n",
       "  <thead>\n",
       "    <tr style=\"text-align: right;\">\n",
       "      <th></th>\n",
       "      <th>isbn</th>\n",
       "      <th>book_title</th>\n",
       "      <th>book_author</th>\n",
       "      <th>year_of_publication</th>\n",
       "      <th>publisher</th>\n",
       "      <th>image_url_s</th>\n",
       "      <th>image_url_m</th>\n",
       "      <th>image_url_l</th>\n",
       "    </tr>\n",
       "  </thead>\n",
       "  <tbody>\n",
       "    <tr>\n",
       "      <th>0</th>\n",
       "      <td>0195153448</td>\n",
       "      <td>Classical Mythology</td>\n",
       "      <td>Mark P. O. Morford</td>\n",
       "      <td>2002</td>\n",
       "      <td>Oxford University Press</td>\n",
       "      <td>http://images.amazon.com/images/P/0195153448.0...</td>\n",
       "      <td>http://images.amazon.com/images/P/0195153448.0...</td>\n",
       "      <td>http://images.amazon.com/images/P/0195153448.0...</td>\n",
       "    </tr>\n",
       "    <tr>\n",
       "      <th>1</th>\n",
       "      <td>0002005018</td>\n",
       "      <td>Clara Callan</td>\n",
       "      <td>Richard Bruce Wright</td>\n",
       "      <td>2001</td>\n",
       "      <td>HarperFlamingo Canada</td>\n",
       "      <td>http://images.amazon.com/images/P/0002005018.0...</td>\n",
       "      <td>http://images.amazon.com/images/P/0002005018.0...</td>\n",
       "      <td>http://images.amazon.com/images/P/0002005018.0...</td>\n",
       "    </tr>\n",
       "    <tr>\n",
       "      <th>2</th>\n",
       "      <td>0060973129</td>\n",
       "      <td>Decision in Normandy</td>\n",
       "      <td>Carlo D'Este</td>\n",
       "      <td>1991</td>\n",
       "      <td>HarperPerennial</td>\n",
       "      <td>http://images.amazon.com/images/P/0060973129.0...</td>\n",
       "      <td>http://images.amazon.com/images/P/0060973129.0...</td>\n",
       "      <td>http://images.amazon.com/images/P/0060973129.0...</td>\n",
       "    </tr>\n",
       "  </tbody>\n",
       "</table>\n",
       "</div>"
      ],
      "text/plain": [
       "         isbn            book_title           book_author year_of_publication  \\\n",
       "0  0195153448   Classical Mythology    Mark P. O. Morford                2002   \n",
       "1  0002005018          Clara Callan  Richard Bruce Wright                2001   \n",
       "2  0060973129  Decision in Normandy          Carlo D'Este                1991   \n",
       "\n",
       "                 publisher                                        image_url_s  \\\n",
       "0  Oxford University Press  http://images.amazon.com/images/P/0195153448.0...   \n",
       "1    HarperFlamingo Canada  http://images.amazon.com/images/P/0002005018.0...   \n",
       "2          HarperPerennial  http://images.amazon.com/images/P/0060973129.0...   \n",
       "\n",
       "                                         image_url_m  \\\n",
       "0  http://images.amazon.com/images/P/0195153448.0...   \n",
       "1  http://images.amazon.com/images/P/0002005018.0...   \n",
       "2  http://images.amazon.com/images/P/0060973129.0...   \n",
       "\n",
       "                                         image_url_l  \n",
       "0  http://images.amazon.com/images/P/0195153448.0...  \n",
       "1  http://images.amazon.com/images/P/0002005018.0...  \n",
       "2  http://images.amazon.com/images/P/0060973129.0...  "
      ]
     },
     "execution_count": 7,
     "metadata": {},
     "output_type": "execute_result"
    }
   ],
   "source": [
    "books = load_dataset('Books.csv')\n",
    "books.head(3)"
   ]
  },
  {
   "cell_type": "code",
   "execution_count": 8,
   "id": "112e58b2-d2bd-451c-868f-15d6a372a3a2",
   "metadata": {},
   "outputs": [
    {
     "data": {
      "text/plain": [
       "isbn                   0\n",
       "book_title             0\n",
       "book_author            2\n",
       "year_of_publication    0\n",
       "publisher              2\n",
       "image_url_s            0\n",
       "image_url_m            0\n",
       "image_url_l            3\n",
       "dtype: int64"
      ]
     },
     "execution_count": 8,
     "metadata": {},
     "output_type": "execute_result"
    }
   ],
   "source": [
    "books.isna().sum()"
   ]
  },
  {
   "cell_type": "code",
   "execution_count": 9,
   "id": "244f9dcc-5cc9-4a31-af88-daa7c904288f",
   "metadata": {},
   "outputs": [
    {
     "name": "stdout",
     "output_type": "stream",
     "text": [
      "<class 'pandas.core.frame.DataFrame'>\n",
      "RangeIndex: 271360 entries, 0 to 271359\n",
      "Data columns (total 8 columns):\n",
      " #   Column               Non-Null Count   Dtype \n",
      "---  ------               --------------   ----- \n",
      " 0   isbn                 271360 non-null  object\n",
      " 1   book_title           271360 non-null  object\n",
      " 2   book_author          271358 non-null  object\n",
      " 3   year_of_publication  271360 non-null  object\n",
      " 4   publisher            271358 non-null  object\n",
      " 5   image_url_s          271360 non-null  object\n",
      " 6   image_url_m          271360 non-null  object\n",
      " 7   image_url_l          271357 non-null  object\n",
      "dtypes: object(8)\n",
      "memory usage: 16.6+ MB\n"
     ]
    }
   ],
   "source": [
    "books.info()"
   ]
  },
  {
   "cell_type": "code",
   "execution_count": 10,
   "id": "aa3f5d34-a268-448e-993e-86a4addd35ff",
   "metadata": {},
   "outputs": [
    {
     "name": "stdout",
     "output_type": "stream",
     "text": [
      "<class 'pandas.core.frame.DataFrame'>\n",
      "RangeIndex: 271360 entries, 0 to 271359\n",
      "Data columns (total 8 columns):\n",
      " #   Column               Non-Null Count   Dtype \n",
      "---  ------               --------------   ----- \n",
      " 0   isbn                 271360 non-null  object\n",
      " 1   book_title           271360 non-null  object\n",
      " 2   book_author          271358 non-null  object\n",
      " 3   year_of_publication  271360 non-null  object\n",
      " 4   publisher            271358 non-null  object\n",
      " 5   image_url_s          271360 non-null  object\n",
      " 6   image_url_m          271360 non-null  object\n",
      " 7   image_url_l          271357 non-null  object\n",
      "dtypes: object(8)\n",
      "memory usage: 16.6+ MB\n"
     ]
    }
   ],
   "source": [
    "books.info()"
   ]
  },
  {
   "cell_type": "markdown",
   "id": "0f66f0d7-3b99-4559-963d-16c84f11f718",
   "metadata": {},
   "source": [
    "## Load User Dataset"
   ]
  },
  {
   "cell_type": "code",
   "execution_count": 12,
   "id": "9a2a7cc6-2960-4050-a14b-dde734d32f14",
   "metadata": {},
   "outputs": [],
   "source": [
    "users = load_dataset('Users.csv')"
   ]
  },
  {
   "cell_type": "code",
   "execution_count": 13,
   "id": "17a573fc-70b0-499a-956d-1ccdbfb44498",
   "metadata": {},
   "outputs": [
    {
     "data": {
      "text/html": [
       "<div>\n",
       "<style scoped>\n",
       "    .dataframe tbody tr th:only-of-type {\n",
       "        vertical-align: middle;\n",
       "    }\n",
       "\n",
       "    .dataframe tbody tr th {\n",
       "        vertical-align: top;\n",
       "    }\n",
       "\n",
       "    .dataframe thead th {\n",
       "        text-align: right;\n",
       "    }\n",
       "</style>\n",
       "<table border=\"1\" class=\"dataframe\">\n",
       "  <thead>\n",
       "    <tr style=\"text-align: right;\">\n",
       "      <th></th>\n",
       "      <th>user_id</th>\n",
       "      <th>location</th>\n",
       "      <th>age</th>\n",
       "    </tr>\n",
       "  </thead>\n",
       "  <tbody>\n",
       "    <tr>\n",
       "      <th>0</th>\n",
       "      <td>1</td>\n",
       "      <td>nyc, new york, usa</td>\n",
       "      <td>NaN</td>\n",
       "    </tr>\n",
       "    <tr>\n",
       "      <th>1</th>\n",
       "      <td>2</td>\n",
       "      <td>stockton, california, usa</td>\n",
       "      <td>18.0</td>\n",
       "    </tr>\n",
       "    <tr>\n",
       "      <th>2</th>\n",
       "      <td>3</td>\n",
       "      <td>moscow, yukon territory, russia</td>\n",
       "      <td>NaN</td>\n",
       "    </tr>\n",
       "  </tbody>\n",
       "</table>\n",
       "</div>"
      ],
      "text/plain": [
       "   user_id                         location   age\n",
       "0        1               nyc, new york, usa   NaN\n",
       "1        2        stockton, california, usa  18.0\n",
       "2        3  moscow, yukon territory, russia   NaN"
      ]
     },
     "execution_count": 13,
     "metadata": {},
     "output_type": "execute_result"
    }
   ],
   "source": [
    "users.head(3)"
   ]
  },
  {
   "cell_type": "markdown",
   "id": "79adb85b-9f58-4115-a798-1f9c8e047125",
   "metadata": {},
   "source": [
    "## Load Ratings Dataset"
   ]
  },
  {
   "cell_type": "code",
   "execution_count": 15,
   "id": "51dbd35c-4963-4ac5-a77d-f1242f4069f2",
   "metadata": {},
   "outputs": [],
   "source": [
    "ratings = load_dataset('Ratings.csv')"
   ]
  },
  {
   "cell_type": "code",
   "execution_count": 16,
   "id": "2535e3eb-3f9e-4013-9251-48f0c196750d",
   "metadata": {},
   "outputs": [
    {
     "data": {
      "text/html": [
       "<div>\n",
       "<style scoped>\n",
       "    .dataframe tbody tr th:only-of-type {\n",
       "        vertical-align: middle;\n",
       "    }\n",
       "\n",
       "    .dataframe tbody tr th {\n",
       "        vertical-align: top;\n",
       "    }\n",
       "\n",
       "    .dataframe thead th {\n",
       "        text-align: right;\n",
       "    }\n",
       "</style>\n",
       "<table border=\"1\" class=\"dataframe\">\n",
       "  <thead>\n",
       "    <tr style=\"text-align: right;\">\n",
       "      <th></th>\n",
       "      <th>user_id</th>\n",
       "      <th>isbn</th>\n",
       "      <th>book_rating</th>\n",
       "    </tr>\n",
       "  </thead>\n",
       "  <tbody>\n",
       "    <tr>\n",
       "      <th>0</th>\n",
       "      <td>276725</td>\n",
       "      <td>034545104X</td>\n",
       "      <td>0</td>\n",
       "    </tr>\n",
       "    <tr>\n",
       "      <th>1</th>\n",
       "      <td>276726</td>\n",
       "      <td>0155061224</td>\n",
       "      <td>5</td>\n",
       "    </tr>\n",
       "  </tbody>\n",
       "</table>\n",
       "</div>"
      ],
      "text/plain": [
       "   user_id        isbn  book_rating\n",
       "0   276725  034545104X            0\n",
       "1   276726  0155061224            5"
      ]
     },
     "execution_count": 16,
     "metadata": {},
     "output_type": "execute_result"
    }
   ],
   "source": [
    "ratings.head(2)"
   ]
  },
  {
   "cell_type": "code",
   "execution_count": 17,
   "id": "d6a8225f-6e7e-4bf4-99e6-cff4c7318fb9",
   "metadata": {},
   "outputs": [
    {
     "name": "stdout",
     "output_type": "stream",
     "text": [
      "<class 'pandas.core.frame.DataFrame'>\n",
      "RangeIndex: 1149780 entries, 0 to 1149779\n",
      "Data columns (total 3 columns):\n",
      " #   Column       Non-Null Count    Dtype \n",
      "---  ------       --------------    ----- \n",
      " 0   user_id      1149780 non-null  int64 \n",
      " 1   isbn         1149780 non-null  object\n",
      " 2   book_rating  1149780 non-null  int64 \n",
      "dtypes: int64(2), object(1)\n",
      "memory usage: 26.3+ MB\n"
     ]
    }
   ],
   "source": [
    "ratings.info()"
   ]
  },
  {
   "cell_type": "markdown",
   "id": "4b89d128-2cad-4b1d-8ee9-867ba86cf7b4",
   "metadata": {},
   "source": [
    "## Data Cleaning & Feature Eng. :\n",
    "## where we will took only those records which are 'more' meaningful. \n",
    "# ↓"
   ]
  },
  {
   "cell_type": "code",
   "execution_count": 19,
   "id": "8ed79b94-8a0f-4de2-8d39-9332342ad6fd",
   "metadata": {},
   "outputs": [
    {
     "name": "stdout",
     "output_type": "stream",
     "text": [
      "<class 'pandas.core.frame.DataFrame'>\n",
      "RangeIndex: 271360 entries, 0 to 271359\n",
      "Data columns (total 8 columns):\n",
      " #   Column               Non-Null Count   Dtype \n",
      "---  ------               --------------   ----- \n",
      " 0   isbn                 271360 non-null  object\n",
      " 1   book_title           271360 non-null  object\n",
      " 2   book_author          271358 non-null  object\n",
      " 3   year_of_publication  271360 non-null  object\n",
      " 4   publisher            271358 non-null  object\n",
      " 5   image_url_s          271360 non-null  object\n",
      " 6   image_url_m          271360 non-null  object\n",
      " 7   image_url_l          271357 non-null  object\n",
      "dtypes: object(8)\n",
      "memory usage: 16.6+ MB\n"
     ]
    }
   ],
   "source": [
    "books.info()"
   ]
  },
  {
   "cell_type": "code",
   "execution_count": 20,
   "id": "8b608a51-5053-47a0-91f4-4646133c1f76",
   "metadata": {},
   "outputs": [
    {
     "name": "stdout",
     "output_type": "stream",
     "text": [
      "<class 'pandas.core.frame.DataFrame'>\n",
      "RangeIndex: 278858 entries, 0 to 278857\n",
      "Data columns (total 3 columns):\n",
      " #   Column    Non-Null Count   Dtype  \n",
      "---  ------    --------------   -----  \n",
      " 0   user_id   278858 non-null  int64  \n",
      " 1   location  278858 non-null  object \n",
      " 2   age       168096 non-null  float64\n",
      "dtypes: float64(1), int64(1), object(1)\n",
      "memory usage: 6.4+ MB\n"
     ]
    }
   ],
   "source": [
    "users.info()"
   ]
  },
  {
   "cell_type": "code",
   "execution_count": 21,
   "id": "d7398e74-b997-47ad-92b3-3b7674294ea4",
   "metadata": {},
   "outputs": [
    {
     "data": {
      "text/plain": [
       "user_id\n",
       "11676     13602\n",
       "198711     7550\n",
       "153662     6109\n",
       "98391      5891\n",
       "35859      5850\n",
       "          ...  \n",
       "116180        1\n",
       "116166        1\n",
       "116154        1\n",
       "116137        1\n",
       "276723        1\n",
       "Name: count, Length: 105283, dtype: int64"
      ]
     },
     "execution_count": 21,
     "metadata": {},
     "output_type": "execute_result"
    }
   ],
   "source": [
    "# take those users as actual_readers who raetes more than at least 200 books .\n",
    "ratings.user_id.value_counts()"
   ]
  },
  {
   "cell_type": "code",
   "execution_count": 22,
   "id": "91b5e56c-fadb-48ed-80c2-53e11f56c900",
   "metadata": {},
   "outputs": [
    {
     "data": {
      "text/plain": [
       "(105283,)"
      ]
     },
     "execution_count": 22,
     "metadata": {},
     "output_type": "execute_result"
    }
   ],
   "source": [
    "ratings.user_id.value_counts().shape"
   ]
  },
  {
   "cell_type": "code",
   "execution_count": 23,
   "id": "c016c503-c6e3-45da-88c7-d2bd279881a7",
   "metadata": {},
   "outputs": [],
   "source": [
    "actual_readers = ratings['user_id'].value_counts() > 200"
   ]
  },
  {
   "cell_type": "code",
   "execution_count": 24,
   "id": "0bd76605-854f-4f75-89e2-3ebc8282d7ae",
   "metadata": {},
   "outputs": [
    {
     "data": {
      "text/plain": [
       "(899,)"
      ]
     },
     "execution_count": 24,
     "metadata": {},
     "output_type": "execute_result"
    }
   ],
   "source": [
    "actual_readers[actual_readers].shape"
   ]
  },
  {
   "cell_type": "code",
   "execution_count": 25,
   "id": "80d01be8-9eb4-4d0a-acb2-1a1a4aa4fced",
   "metadata": {},
   "outputs": [],
   "source": [
    "actual_readers_id = actual_readers[actual_readers].index # extractings only user_id's which are as index in readers"
   ]
  },
  {
   "cell_type": "code",
   "execution_count": 26,
   "id": "a8947729-c123-4361-b866-3f747b4f3756",
   "metadata": {},
   "outputs": [
    {
     "data": {
      "text/plain": [
       "Index([ 11676, 198711, 153662,  98391,  35859, 212898, 278418,  76352, 110973,\n",
       "       235105,\n",
       "       ...\n",
       "       260183,  73681,  44296, 155916,   9856, 274808,  28634,  59727, 268622,\n",
       "       188951],\n",
       "      dtype='int64', name='user_id', length=899)"
      ]
     },
     "execution_count": 26,
     "metadata": {},
     "output_type": "execute_result"
    }
   ],
   "source": [
    "actual_readers_id"
   ]
  },
  {
   "cell_type": "code",
   "execution_count": 27,
   "id": "3f1a885f-87e3-46e1-96d5-349d46b097d4",
   "metadata": {},
   "outputs": [],
   "source": [
    "ratings = ratings[ratings.user_id.isin(actual_readers_id)] #filtering ids with only actual readers "
   ]
  },
  {
   "cell_type": "code",
   "execution_count": 28,
   "id": "d292b27b-668c-4bae-864d-be1b123f25fd",
   "metadata": {},
   "outputs": [
    {
     "name": "stdout",
     "output_type": "stream",
     "text": [
      "<class 'pandas.core.frame.DataFrame'>\n",
      "Index: 526356 entries, 1456 to 1147616\n",
      "Data columns (total 3 columns):\n",
      " #   Column       Non-Null Count   Dtype \n",
      "---  ------       --------------   ----- \n",
      " 0   user_id      526356 non-null  int64 \n",
      " 1   isbn         526356 non-null  object\n",
      " 2   book_rating  526356 non-null  int64 \n",
      "dtypes: int64(2), object(1)\n",
      "memory usage: 16.1+ MB\n"
     ]
    }
   ],
   "source": [
    "ratings.info()"
   ]
  },
  {
   "cell_type": "code",
   "execution_count": 29,
   "id": "6272b95f-2f72-49de-a365-566dc3e0f32f",
   "metadata": {},
   "outputs": [
    {
     "name": "stdout",
     "output_type": "stream",
     "text": [
      "<class 'pandas.core.frame.DataFrame'>\n",
      "RangeIndex: 271360 entries, 0 to 271359\n",
      "Data columns (total 8 columns):\n",
      " #   Column               Non-Null Count   Dtype \n",
      "---  ------               --------------   ----- \n",
      " 0   isbn                 271360 non-null  object\n",
      " 1   book_title           271360 non-null  object\n",
      " 2   book_author          271358 non-null  object\n",
      " 3   year_of_publication  271360 non-null  object\n",
      " 4   publisher            271358 non-null  object\n",
      " 5   image_url_s          271360 non-null  object\n",
      " 6   image_url_m          271360 non-null  object\n",
      " 7   image_url_l          271357 non-null  object\n",
      "dtypes: object(8)\n",
      "memory usage: 16.6+ MB\n"
     ]
    }
   ],
   "source": [
    "books.info()"
   ]
  },
  {
   "cell_type": "code",
   "execution_count": 30,
   "id": "9b433eaf-1719-4be1-b942-1806d7fa749b",
   "metadata": {},
   "outputs": [],
   "source": [
    "books_with_ratings= books.merge(ratings , on = 'isbn') #International Standard Book Number : isbn → unique no. for every books "
   ]
  },
  {
   "cell_type": "code",
   "execution_count": 31,
   "id": "307ce63b-eee6-4301-b6a8-2059ace6ec15",
   "metadata": {},
   "outputs": [
    {
     "name": "stdout",
     "output_type": "stream",
     "text": [
      "<class 'pandas.core.frame.DataFrame'>\n",
      "RangeIndex: 487671 entries, 0 to 487670\n",
      "Data columns (total 10 columns):\n",
      " #   Column               Non-Null Count   Dtype \n",
      "---  ------               --------------   ----- \n",
      " 0   isbn                 487671 non-null  object\n",
      " 1   book_title           487671 non-null  object\n",
      " 2   book_author          487670 non-null  object\n",
      " 3   year_of_publication  487671 non-null  object\n",
      " 4   publisher            487669 non-null  object\n",
      " 5   image_url_s          487671 non-null  object\n",
      " 6   image_url_m          487671 non-null  object\n",
      " 7   image_url_l          487668 non-null  object\n",
      " 8   user_id              487671 non-null  int64 \n",
      " 9   book_rating          487671 non-null  int64 \n",
      "dtypes: int64(2), object(8)\n",
      "memory usage: 37.2+ MB\n"
     ]
    }
   ],
   "source": [
    "books_with_ratings.info()"
   ]
  },
  {
   "cell_type": "code",
   "execution_count": 32,
   "id": "6e301edb-5db9-4789-a725-9284af2eb647",
   "metadata": {},
   "outputs": [
    {
     "data": {
      "text/plain": [
       "isbn\n",
       "True     487671\n",
       "False     38685\n",
       "Name: count, dtype: int64"
      ]
     },
     "execution_count": 32,
     "metadata": {},
     "output_type": "execute_result"
    }
   ],
   "source": [
    "ratings.isbn.isin(books.isbn).value_counts() "
   ]
  },
  {
   "cell_type": "code",
   "execution_count": 33,
   "id": "bdeab22b-98f7-41a4-a9e1-d95491133cff",
   "metadata": {},
   "outputs": [
    {
     "data": {
      "text/plain": [
       "178018"
      ]
     },
     "execution_count": 33,
     "metadata": {},
     "output_type": "execute_result"
    }
   ],
   "source": [
    "books_with_ratings.isbn.nunique()"
   ]
  },
  {
   "cell_type": "code",
   "execution_count": 34,
   "id": "b1e662a5-f09f-47f9-9ad4-9eec98496948",
   "metadata": {},
   "outputs": [
    {
     "data": {
      "text/html": [
       "<div>\n",
       "<style scoped>\n",
       "    .dataframe tbody tr th:only-of-type {\n",
       "        vertical-align: middle;\n",
       "    }\n",
       "\n",
       "    .dataframe tbody tr th {\n",
       "        vertical-align: top;\n",
       "    }\n",
       "\n",
       "    .dataframe thead th {\n",
       "        text-align: right;\n",
       "    }\n",
       "</style>\n",
       "<table border=\"1\" class=\"dataframe\">\n",
       "  <thead>\n",
       "    <tr style=\"text-align: right;\">\n",
       "      <th></th>\n",
       "      <th>isbn</th>\n",
       "      <th>book_title</th>\n",
       "      <th>book_author</th>\n",
       "      <th>year_of_publication</th>\n",
       "      <th>publisher</th>\n",
       "      <th>image_url_s</th>\n",
       "      <th>image_url_m</th>\n",
       "      <th>image_url_l</th>\n",
       "      <th>user_id</th>\n",
       "      <th>book_rating</th>\n",
       "    </tr>\n",
       "  </thead>\n",
       "  <tbody>\n",
       "    <tr>\n",
       "      <th>0</th>\n",
       "      <td>0002005018</td>\n",
       "      <td>Clara Callan</td>\n",
       "      <td>Richard Bruce Wright</td>\n",
       "      <td>2001</td>\n",
       "      <td>HarperFlamingo Canada</td>\n",
       "      <td>http://images.amazon.com/images/P/0002005018.0...</td>\n",
       "      <td>http://images.amazon.com/images/P/0002005018.0...</td>\n",
       "      <td>http://images.amazon.com/images/P/0002005018.0...</td>\n",
       "      <td>11676</td>\n",
       "      <td>8</td>\n",
       "    </tr>\n",
       "    <tr>\n",
       "      <th>1</th>\n",
       "      <td>0002005018</td>\n",
       "      <td>Clara Callan</td>\n",
       "      <td>Richard Bruce Wright</td>\n",
       "      <td>2001</td>\n",
       "      <td>HarperFlamingo Canada</td>\n",
       "      <td>http://images.amazon.com/images/P/0002005018.0...</td>\n",
       "      <td>http://images.amazon.com/images/P/0002005018.0...</td>\n",
       "      <td>http://images.amazon.com/images/P/0002005018.0...</td>\n",
       "      <td>85526</td>\n",
       "      <td>0</td>\n",
       "    </tr>\n",
       "    <tr>\n",
       "      <th>2</th>\n",
       "      <td>0002005018</td>\n",
       "      <td>Clara Callan</td>\n",
       "      <td>Richard Bruce Wright</td>\n",
       "      <td>2001</td>\n",
       "      <td>HarperFlamingo Canada</td>\n",
       "      <td>http://images.amazon.com/images/P/0002005018.0...</td>\n",
       "      <td>http://images.amazon.com/images/P/0002005018.0...</td>\n",
       "      <td>http://images.amazon.com/images/P/0002005018.0...</td>\n",
       "      <td>96054</td>\n",
       "      <td>0</td>\n",
       "    </tr>\n",
       "  </tbody>\n",
       "</table>\n",
       "</div>"
      ],
      "text/plain": [
       "         isbn    book_title           book_author year_of_publication  \\\n",
       "0  0002005018  Clara Callan  Richard Bruce Wright                2001   \n",
       "1  0002005018  Clara Callan  Richard Bruce Wright                2001   \n",
       "2  0002005018  Clara Callan  Richard Bruce Wright                2001   \n",
       "\n",
       "               publisher                                        image_url_s  \\\n",
       "0  HarperFlamingo Canada  http://images.amazon.com/images/P/0002005018.0...   \n",
       "1  HarperFlamingo Canada  http://images.amazon.com/images/P/0002005018.0...   \n",
       "2  HarperFlamingo Canada  http://images.amazon.com/images/P/0002005018.0...   \n",
       "\n",
       "                                         image_url_m  \\\n",
       "0  http://images.amazon.com/images/P/0002005018.0...   \n",
       "1  http://images.amazon.com/images/P/0002005018.0...   \n",
       "2  http://images.amazon.com/images/P/0002005018.0...   \n",
       "\n",
       "                                         image_url_l  user_id  book_rating  \n",
       "0  http://images.amazon.com/images/P/0002005018.0...    11676            8  \n",
       "1  http://images.amazon.com/images/P/0002005018.0...    85526            0  \n",
       "2  http://images.amazon.com/images/P/0002005018.0...    96054            0  "
      ]
     },
     "execution_count": 34,
     "metadata": {},
     "output_type": "execute_result"
    }
   ],
   "source": [
    "books_with_ratings.head(3)"
   ]
  },
  {
   "cell_type": "code",
   "execution_count": 35,
   "id": "5fec3438-6e52-424e-8c04-e7fa83a66191",
   "metadata": {},
   "outputs": [],
   "source": [
    "number_of_ratings = books_with_ratings.groupby('book_title')['book_rating'].count().sort_values(ascending = False).reset_index()"
   ]
  },
  {
   "cell_type": "code",
   "execution_count": 36,
   "id": "285b6c25-96d3-4551-980d-fa9243fcf3ff",
   "metadata": {},
   "outputs": [
    {
     "name": "stdout",
     "output_type": "stream",
     "text": [
      "<class 'pandas.core.frame.DataFrame'>\n",
      "RangeIndex: 160269 entries, 0 to 160268\n",
      "Data columns (total 2 columns):\n",
      " #   Column       Non-Null Count   Dtype \n",
      "---  ------       --------------   ----- \n",
      " 0   book_title   160269 non-null  object\n",
      " 1   book_rating  160269 non-null  int64 \n",
      "dtypes: int64(1), object(1)\n",
      "memory usage: 2.4+ MB\n"
     ]
    }
   ],
   "source": [
    "number_of_ratings.info()"
   ]
  },
  {
   "cell_type": "code",
   "execution_count": 37,
   "id": "dec10b7f-a57b-4a89-b7ae-2b1aa4981179",
   "metadata": {},
   "outputs": [],
   "source": [
    "number_of_ratings.rename(columns= {'book_rating' : 'number_of_ratings'} , inplace = True)"
   ]
  },
  {
   "cell_type": "code",
   "execution_count": 38,
   "id": "bd45660a-fbd5-4658-85dc-8427a50f5338",
   "metadata": {},
   "outputs": [],
   "source": [
    "# merge it to the books_with_ratings to get the final result\n",
    "final_ratings = books_with_ratings.merge(number_of_ratings , on = 'book_title')"
   ]
  },
  {
   "cell_type": "code",
   "execution_count": 39,
   "id": "ab3391c3-c12b-467b-8511-63207c8e4ad8",
   "metadata": {},
   "outputs": [
    {
     "name": "stdout",
     "output_type": "stream",
     "text": [
      "<class 'pandas.core.frame.DataFrame'>\n",
      "RangeIndex: 487671 entries, 0 to 487670\n",
      "Data columns (total 11 columns):\n",
      " #   Column               Non-Null Count   Dtype \n",
      "---  ------               --------------   ----- \n",
      " 0   isbn                 487671 non-null  object\n",
      " 1   book_title           487671 non-null  object\n",
      " 2   book_author          487670 non-null  object\n",
      " 3   year_of_publication  487671 non-null  object\n",
      " 4   publisher            487669 non-null  object\n",
      " 5   image_url_s          487671 non-null  object\n",
      " 6   image_url_m          487671 non-null  object\n",
      " 7   image_url_l          487668 non-null  object\n",
      " 8   user_id              487671 non-null  int64 \n",
      " 9   book_rating          487671 non-null  int64 \n",
      " 10  number_of_ratings    487671 non-null  int64 \n",
      "dtypes: int64(3), object(8)\n",
      "memory usage: 40.9+ MB\n"
     ]
    }
   ],
   "source": [
    "final_ratings.info()"
   ]
  },
  {
   "cell_type": "code",
   "execution_count": 40,
   "id": "d590c1bf-aeae-4956-9364-ec40d58212f0",
   "metadata": {},
   "outputs": [
    {
     "data": {
      "text/plain": [
       "227       363\n",
       "285       363\n",
       "311       363\n",
       "310       363\n",
       "309       363\n",
       "         ... \n",
       "414150      1\n",
       "414149      1\n",
       "414147      1\n",
       "414146      1\n",
       "487670      1\n",
       "Name: number_of_ratings, Length: 487671, dtype: int64"
      ]
     },
     "execution_count": 40,
     "metadata": {},
     "output_type": "execute_result"
    }
   ],
   "source": [
    "final_ratings['number_of_ratings'].sort_values(ascending=False)"
   ]
  },
  {
   "cell_type": "code",
   "execution_count": 41,
   "id": "5a4384e9-5c82-48fa-a1fe-dda2db6af788",
   "metadata": {},
   "outputs": [],
   "source": [
    "final_ratings = final_ratings[final_ratings['number_of_ratings'] >= 50] # consider those books which have more than 50 ratings"
   ]
  },
  {
   "cell_type": "code",
   "execution_count": 42,
   "id": "7fd1f3be-feb0-41ea-879c-f3ec9a38d7f5",
   "metadata": {},
   "outputs": [
    {
     "name": "stdout",
     "output_type": "stream",
     "text": [
      "<class 'pandas.core.frame.DataFrame'>\n",
      "Index: 61853 entries, 7 to 486790\n",
      "Data columns (total 11 columns):\n",
      " #   Column               Non-Null Count  Dtype \n",
      "---  ------               --------------  ----- \n",
      " 0   isbn                 61853 non-null  object\n",
      " 1   book_title           61853 non-null  object\n",
      " 2   book_author          61853 non-null  object\n",
      " 3   year_of_publication  61853 non-null  object\n",
      " 4   publisher            61853 non-null  object\n",
      " 5   image_url_s          61853 non-null  object\n",
      " 6   image_url_m          61853 non-null  object\n",
      " 7   image_url_l          61853 non-null  object\n",
      " 8   user_id              61853 non-null  int64 \n",
      " 9   book_rating          61853 non-null  int64 \n",
      " 10  number_of_ratings    61853 non-null  int64 \n",
      "dtypes: int64(3), object(8)\n",
      "memory usage: 5.7+ MB\n"
     ]
    }
   ],
   "source": [
    "final_ratings.info()"
   ]
  },
  {
   "cell_type": "code",
   "execution_count": 43,
   "id": "6f54b083-3245-41af-ac05-cb23b8d29016",
   "metadata": {},
   "outputs": [],
   "source": [
    "# removing those records where same user rated on same book for multiple times \n",
    "# note : it could be more perfectly done if we had a meta data , that tells us the latest updated rating on the same book by the same user , but unfortunately we dont have this  \n",
    "final_ratings.drop_duplicates(['user_id','book_title'], inplace =True) "
   ]
  },
  {
   "cell_type": "code",
   "execution_count": 44,
   "id": "138c7bc8-23a9-4e95-8c7d-cf902ab78a12",
   "metadata": {},
   "outputs": [
    {
     "name": "stdout",
     "output_type": "stream",
     "text": [
      "<class 'pandas.core.frame.DataFrame'>\n",
      "Index: 59850 entries, 7 to 486790\n",
      "Data columns (total 11 columns):\n",
      " #   Column               Non-Null Count  Dtype \n",
      "---  ------               --------------  ----- \n",
      " 0   isbn                 59850 non-null  object\n",
      " 1   book_title           59850 non-null  object\n",
      " 2   book_author          59850 non-null  object\n",
      " 3   year_of_publication  59850 non-null  object\n",
      " 4   publisher            59850 non-null  object\n",
      " 5   image_url_s          59850 non-null  object\n",
      " 6   image_url_m          59850 non-null  object\n",
      " 7   image_url_l          59850 non-null  object\n",
      " 8   user_id              59850 non-null  int64 \n",
      " 9   book_rating          59850 non-null  int64 \n",
      " 10  number_of_ratings    59850 non-null  int64 \n",
      "dtypes: int64(3), object(8)\n",
      "memory usage: 5.5+ MB\n"
     ]
    }
   ],
   "source": [
    "final_ratings.info()"
   ]
  },
  {
   "cell_type": "markdown",
   "id": "e7c9812f-16ac-4a82-bf37-526479554da2",
   "metadata": {},
   "source": [
    "## Top 50 Books"
   ]
  },
  {
   "cell_type": "code",
   "execution_count": 46,
   "id": "e6c94f09-90e5-4b84-a0a0-1442b96a702f",
   "metadata": {},
   "outputs": [],
   "source": [
    "count = final_ratings[final_ratings['number_of_ratings']>50] #top 50 if that book got min 250 ratings\n",
    "avg_ratings = count.groupby('book_title')['book_rating'].mean().reset_index().sort_values(by='book_rating', ascending=False)\n",
    "avg_ratings.rename(columns = {'book_rating' : 'average_ratings'} , inplace =True)"
   ]
  },
  {
   "cell_type": "code",
   "execution_count": 47,
   "id": "d4858675-9f78-4464-9447-a135b461e4f1",
   "metadata": {},
   "outputs": [
    {
     "data": {
      "text/plain": [
       "(703, 2)"
      ]
     },
     "execution_count": 47,
     "metadata": {},
     "output_type": "execute_result"
    }
   ],
   "source": [
    "avg_ratings.shape"
   ]
  },
  {
   "cell_type": "code",
   "execution_count": 48,
   "id": "be41a49e-6f93-4bc1-904e-8b917d9817e0",
   "metadata": {},
   "outputs": [
    {
     "data": {
      "text/html": [
       "<div>\n",
       "<style scoped>\n",
       "    .dataframe tbody tr th:only-of-type {\n",
       "        vertical-align: middle;\n",
       "    }\n",
       "\n",
       "    .dataframe tbody tr th {\n",
       "        vertical-align: top;\n",
       "    }\n",
       "\n",
       "    .dataframe thead th {\n",
       "        text-align: right;\n",
       "    }\n",
       "</style>\n",
       "<table border=\"1\" class=\"dataframe\">\n",
       "  <thead>\n",
       "    <tr style=\"text-align: right;\">\n",
       "      <th></th>\n",
       "      <th>book_title</th>\n",
       "      <th>average_ratings</th>\n",
       "    </tr>\n",
       "  </thead>\n",
       "  <tbody>\n",
       "    <tr>\n",
       "      <th>563</th>\n",
       "      <td>The Little Prince</td>\n",
       "      <td>5.115385</td>\n",
       "    </tr>\n",
       "    <tr>\n",
       "      <th>228</th>\n",
       "      <td>Harry Potter and the Sorcerer's Stone (Book 1)</td>\n",
       "      <td>4.710526</td>\n",
       "    </tr>\n",
       "    <tr>\n",
       "      <th>4</th>\n",
       "      <td>84 Charing Cross Road</td>\n",
       "      <td>4.666667</td>\n",
       "    </tr>\n",
       "    <tr>\n",
       "      <th>227</th>\n",
       "      <td>Harry Potter and the Prisoner of Azkaban (Book 3)</td>\n",
       "      <td>4.451128</td>\n",
       "    </tr>\n",
       "    <tr>\n",
       "      <th>225</th>\n",
       "      <td>Harry Potter and the Goblet of Fire (Book 4)</td>\n",
       "      <td>4.444444</td>\n",
       "    </tr>\n",
       "    <tr>\n",
       "      <th>...</th>\n",
       "      <td>...</td>\n",
       "      <td>...</td>\n",
       "    </tr>\n",
       "    <tr>\n",
       "      <th>377</th>\n",
       "      <td>Pleading Guilty</td>\n",
       "      <td>0.539683</td>\n",
       "    </tr>\n",
       "    <tr>\n",
       "      <th>173</th>\n",
       "      <td>Exclusive</td>\n",
       "      <td>0.442308</td>\n",
       "    </tr>\n",
       "    <tr>\n",
       "      <th>691</th>\n",
       "      <td>Wild Animus</td>\n",
       "      <td>0.438017</td>\n",
       "    </tr>\n",
       "    <tr>\n",
       "      <th>305</th>\n",
       "      <td>Long After Midnight</td>\n",
       "      <td>0.433962</td>\n",
       "    </tr>\n",
       "    <tr>\n",
       "      <th>356</th>\n",
       "      <td>No Safe Place</td>\n",
       "      <td>0.372549</td>\n",
       "    </tr>\n",
       "  </tbody>\n",
       "</table>\n",
       "<p>703 rows × 2 columns</p>\n",
       "</div>"
      ],
      "text/plain": [
       "                                            book_title  average_ratings\n",
       "563                                  The Little Prince         5.115385\n",
       "228     Harry Potter and the Sorcerer's Stone (Book 1)         4.710526\n",
       "4                                84 Charing Cross Road         4.666667\n",
       "227  Harry Potter and the Prisoner of Azkaban (Book 3)         4.451128\n",
       "225       Harry Potter and the Goblet of Fire (Book 4)         4.444444\n",
       "..                                                 ...              ...\n",
       "377                                    Pleading Guilty         0.539683\n",
       "173                                          Exclusive         0.442308\n",
       "691                                        Wild Animus         0.438017\n",
       "305                                Long After Midnight         0.433962\n",
       "356                                      No Safe Place         0.372549\n",
       "\n",
       "[703 rows x 2 columns]"
      ]
     },
     "execution_count": 48,
     "metadata": {},
     "output_type": "execute_result"
    }
   ],
   "source": [
    "avg_ratings"
   ]
  },
  {
   "cell_type": "code",
   "execution_count": 49,
   "id": "cd63ab86-36ec-49fe-bf69-b5bc3e1054bc",
   "metadata": {},
   "outputs": [],
   "source": [
    "top_50 = avg_ratings.iloc[:50]\n",
    "top_50 = top_50.merge(final_ratings , on='book_title')\n",
    "top_50.drop_duplicates(['book_title'],inplace =True)"
   ]
  },
  {
   "cell_type": "code",
   "execution_count": 50,
   "id": "2d72945c-1a24-4d07-b12e-384c5377e17d",
   "metadata": {},
   "outputs": [
    {
     "data": {
      "text/plain": [
       "(50, 12)"
      ]
     },
     "execution_count": 50,
     "metadata": {},
     "output_type": "execute_result"
    }
   ],
   "source": [
    "top_50.shape"
   ]
  },
  {
   "cell_type": "code",
   "execution_count": 51,
   "id": "1081dde3-5a9e-4816-a348-395b8452e66f",
   "metadata": {},
   "outputs": [
    {
     "data": {
      "text/html": [
       "<div>\n",
       "<style scoped>\n",
       "    .dataframe tbody tr th:only-of-type {\n",
       "        vertical-align: middle;\n",
       "    }\n",
       "\n",
       "    .dataframe tbody tr th {\n",
       "        vertical-align: top;\n",
       "    }\n",
       "\n",
       "    .dataframe thead th {\n",
       "        text-align: right;\n",
       "    }\n",
       "</style>\n",
       "<table border=\"1\" class=\"dataframe\">\n",
       "  <thead>\n",
       "    <tr style=\"text-align: right;\">\n",
       "      <th></th>\n",
       "      <th>book_title</th>\n",
       "      <th>average_ratings</th>\n",
       "      <th>isbn</th>\n",
       "      <th>book_author</th>\n",
       "      <th>year_of_publication</th>\n",
       "      <th>publisher</th>\n",
       "      <th>image_url_s</th>\n",
       "      <th>image_url_m</th>\n",
       "      <th>image_url_l</th>\n",
       "      <th>user_id</th>\n",
       "      <th>book_rating</th>\n",
       "      <th>number_of_ratings</th>\n",
       "    </tr>\n",
       "  </thead>\n",
       "  <tbody>\n",
       "    <tr>\n",
       "      <th>0</th>\n",
       "      <td>The Little Prince</td>\n",
       "      <td>5.115385</td>\n",
       "      <td>0156528207</td>\n",
       "      <td>Antoine de Saint-ExupÃ©ry</td>\n",
       "      <td>1968</td>\n",
       "      <td>Harcourt</td>\n",
       "      <td>http://images.amazon.com/images/P/0156528207.0...</td>\n",
       "      <td>http://images.amazon.com/images/P/0156528207.0...</td>\n",
       "      <td>http://images.amazon.com/images/P/0156528207.0...</td>\n",
       "      <td>278418</td>\n",
       "      <td>0</td>\n",
       "      <td>53</td>\n",
       "    </tr>\n",
       "    <tr>\n",
       "      <th>52</th>\n",
       "      <td>Harry Potter and the Sorcerer's Stone (Book 1)</td>\n",
       "      <td>4.710526</td>\n",
       "      <td>0590353403</td>\n",
       "      <td>J. K. Rowling</td>\n",
       "      <td>1998</td>\n",
       "      <td>Scholastic</td>\n",
       "      <td>http://images.amazon.com/images/P/0590353403.0...</td>\n",
       "      <td>http://images.amazon.com/images/P/0590353403.0...</td>\n",
       "      <td>http://images.amazon.com/images/P/0590353403.0...</td>\n",
       "      <td>254</td>\n",
       "      <td>9</td>\n",
       "      <td>78</td>\n",
       "    </tr>\n",
       "    <tr>\n",
       "      <th>128</th>\n",
       "      <td>84 Charing Cross Road</td>\n",
       "      <td>4.666667</td>\n",
       "      <td>0860074382</td>\n",
       "      <td>Helene Hanff</td>\n",
       "      <td>0</td>\n",
       "      <td>Warner Books&gt; C/o Little Br</td>\n",
       "      <td>http://images.amazon.com/images/P/0860074382.0...</td>\n",
       "      <td>http://images.amazon.com/images/P/0860074382.0...</td>\n",
       "      <td>http://images.amazon.com/images/P/0860074382.0...</td>\n",
       "      <td>11676</td>\n",
       "      <td>7</td>\n",
       "      <td>54</td>\n",
       "    </tr>\n",
       "  </tbody>\n",
       "</table>\n",
       "</div>"
      ],
      "text/plain": [
       "                                         book_title  average_ratings  \\\n",
       "0                                 The Little Prince         5.115385   \n",
       "52   Harry Potter and the Sorcerer's Stone (Book 1)         4.710526   \n",
       "128                           84 Charing Cross Road         4.666667   \n",
       "\n",
       "           isbn                book_author year_of_publication  \\\n",
       "0    0156528207  Antoine de Saint-ExupÃ©ry                1968   \n",
       "52   0590353403              J. K. Rowling                1998   \n",
       "128  0860074382               Helene Hanff                   0   \n",
       "\n",
       "                       publisher  \\\n",
       "0                       Harcourt   \n",
       "52                    Scholastic   \n",
       "128  Warner Books> C/o Little Br   \n",
       "\n",
       "                                           image_url_s  \\\n",
       "0    http://images.amazon.com/images/P/0156528207.0...   \n",
       "52   http://images.amazon.com/images/P/0590353403.0...   \n",
       "128  http://images.amazon.com/images/P/0860074382.0...   \n",
       "\n",
       "                                           image_url_m  \\\n",
       "0    http://images.amazon.com/images/P/0156528207.0...   \n",
       "52   http://images.amazon.com/images/P/0590353403.0...   \n",
       "128  http://images.amazon.com/images/P/0860074382.0...   \n",
       "\n",
       "                                           image_url_l  user_id  book_rating  \\\n",
       "0    http://images.amazon.com/images/P/0156528207.0...   278418            0   \n",
       "52   http://images.amazon.com/images/P/0590353403.0...      254            9   \n",
       "128  http://images.amazon.com/images/P/0860074382.0...    11676            7   \n",
       "\n",
       "     number_of_ratings  \n",
       "0                   53  \n",
       "52                  78  \n",
       "128                 54  "
      ]
     },
     "execution_count": 51,
     "metadata": {},
     "output_type": "execute_result"
    }
   ],
   "source": [
    "top_50.head(3)"
   ]
  },
  {
   "cell_type": "code",
   "execution_count": 175,
   "id": "c733335e-946e-4f43-bed2-1d5be16eabe6",
   "metadata": {},
   "outputs": [],
   "source": [
    "# If each URL needs to be split by ':' and you want the second part needed for heroku\n",
    "f = [url.replace('http://', 'https://') for url in top_50['image_url_m']]\n"
   ]
  },
  {
   "cell_type": "code",
   "execution_count": 177,
   "id": "c33c77d9-3720-418e-8f33-ef7a3c6392ca",
   "metadata": {},
   "outputs": [
    {
     "data": {
      "text/plain": [
       "'https://images.amazon.com/images/P/0156528207.01.MZZZZZZZ.jpg'"
      ]
     },
     "execution_count": 177,
     "metadata": {},
     "output_type": "execute_result"
    }
   ],
   "source": [
    "f[0]"
   ]
  },
  {
   "cell_type": "code",
   "execution_count": 52,
   "id": "c90a5f32-de2f-4ce5-9021-af61feecab44",
   "metadata": {},
   "outputs": [],
   "source": [
    "import pickle \n",
    "pickle.dump(top_50,open('top_50.pkl','wb'))"
   ]
  },
  {
   "cell_type": "markdown",
   "id": "00a64d64-a149-4ddc-a207-169b005af4c4",
   "metadata": {},
   "source": [
    "## above are Top 50 books"
   ]
  },
  {
   "cell_type": "markdown",
   "id": "5a0a68bd-af98-4e0f-b97e-b6736ee7e925",
   "metadata": {},
   "source": [
    "## Now for Recommendations ↓"
   ]
  },
  {
   "cell_type": "code",
   "execution_count": 55,
   "id": "d6c3d33e-170d-4c67-9826-f39a093a409e",
   "metadata": {},
   "outputs": [],
   "source": [
    "final_pivot = final_ratings.pivot_table(columns = 'user_id' , index = 'book_title' , values = 'book_rating').replace(np.nan , 0) #can also use fillna(0) it's her choice 😗"
   ]
  },
  {
   "cell_type": "code",
   "execution_count": 56,
   "id": "5ba4693d-16a5-4ff0-b31c-6d28257685e1",
   "metadata": {},
   "outputs": [
    {
     "data": {
      "text/html": [
       "<div>\n",
       "<style scoped>\n",
       "    .dataframe tbody tr th:only-of-type {\n",
       "        vertical-align: middle;\n",
       "    }\n",
       "\n",
       "    .dataframe tbody tr th {\n",
       "        vertical-align: top;\n",
       "    }\n",
       "\n",
       "    .dataframe thead th {\n",
       "        text-align: right;\n",
       "    }\n",
       "</style>\n",
       "<table border=\"1\" class=\"dataframe\">\n",
       "  <thead>\n",
       "    <tr style=\"text-align: right;\">\n",
       "      <th>user_id</th>\n",
       "      <th>254</th>\n",
       "      <th>2276</th>\n",
       "      <th>2766</th>\n",
       "      <th>2977</th>\n",
       "      <th>3363</th>\n",
       "      <th>3757</th>\n",
       "      <th>4017</th>\n",
       "      <th>4385</th>\n",
       "      <th>6242</th>\n",
       "      <th>6251</th>\n",
       "      <th>...</th>\n",
       "      <th>274004</th>\n",
       "      <th>274061</th>\n",
       "      <th>274301</th>\n",
       "      <th>274308</th>\n",
       "      <th>274808</th>\n",
       "      <th>275970</th>\n",
       "      <th>277427</th>\n",
       "      <th>277478</th>\n",
       "      <th>277639</th>\n",
       "      <th>278418</th>\n",
       "    </tr>\n",
       "    <tr>\n",
       "      <th>book_title</th>\n",
       "      <th></th>\n",
       "      <th></th>\n",
       "      <th></th>\n",
       "      <th></th>\n",
       "      <th></th>\n",
       "      <th></th>\n",
       "      <th></th>\n",
       "      <th></th>\n",
       "      <th></th>\n",
       "      <th></th>\n",
       "      <th></th>\n",
       "      <th></th>\n",
       "      <th></th>\n",
       "      <th></th>\n",
       "      <th></th>\n",
       "      <th></th>\n",
       "      <th></th>\n",
       "      <th></th>\n",
       "      <th></th>\n",
       "      <th></th>\n",
       "      <th></th>\n",
       "    </tr>\n",
       "  </thead>\n",
       "  <tbody>\n",
       "    <tr>\n",
       "      <th>1984</th>\n",
       "      <td>9.0</td>\n",
       "      <td>0.0</td>\n",
       "      <td>0.0</td>\n",
       "      <td>0.0</td>\n",
       "      <td>0.0</td>\n",
       "      <td>0.0</td>\n",
       "      <td>0.0</td>\n",
       "      <td>0.0</td>\n",
       "      <td>0.0</td>\n",
       "      <td>0.0</td>\n",
       "      <td>...</td>\n",
       "      <td>0.0</td>\n",
       "      <td>0.0</td>\n",
       "      <td>0.0</td>\n",
       "      <td>0.0</td>\n",
       "      <td>0.0</td>\n",
       "      <td>0.0</td>\n",
       "      <td>0.0</td>\n",
       "      <td>0.0</td>\n",
       "      <td>0.0</td>\n",
       "      <td>0.0</td>\n",
       "    </tr>\n",
       "    <tr>\n",
       "      <th>1st to Die: A Novel</th>\n",
       "      <td>0.0</td>\n",
       "      <td>0.0</td>\n",
       "      <td>0.0</td>\n",
       "      <td>0.0</td>\n",
       "      <td>0.0</td>\n",
       "      <td>0.0</td>\n",
       "      <td>0.0</td>\n",
       "      <td>0.0</td>\n",
       "      <td>0.0</td>\n",
       "      <td>0.0</td>\n",
       "      <td>...</td>\n",
       "      <td>0.0</td>\n",
       "      <td>0.0</td>\n",
       "      <td>0.0</td>\n",
       "      <td>0.0</td>\n",
       "      <td>0.0</td>\n",
       "      <td>0.0</td>\n",
       "      <td>0.0</td>\n",
       "      <td>0.0</td>\n",
       "      <td>0.0</td>\n",
       "      <td>0.0</td>\n",
       "    </tr>\n",
       "    <tr>\n",
       "      <th>2nd Chance</th>\n",
       "      <td>0.0</td>\n",
       "      <td>10.0</td>\n",
       "      <td>0.0</td>\n",
       "      <td>0.0</td>\n",
       "      <td>0.0</td>\n",
       "      <td>0.0</td>\n",
       "      <td>0.0</td>\n",
       "      <td>0.0</td>\n",
       "      <td>0.0</td>\n",
       "      <td>0.0</td>\n",
       "      <td>...</td>\n",
       "      <td>0.0</td>\n",
       "      <td>0.0</td>\n",
       "      <td>0.0</td>\n",
       "      <td>0.0</td>\n",
       "      <td>0.0</td>\n",
       "      <td>0.0</td>\n",
       "      <td>0.0</td>\n",
       "      <td>0.0</td>\n",
       "      <td>0.0</td>\n",
       "      <td>0.0</td>\n",
       "    </tr>\n",
       "    <tr>\n",
       "      <th>4 Blondes</th>\n",
       "      <td>0.0</td>\n",
       "      <td>0.0</td>\n",
       "      <td>0.0</td>\n",
       "      <td>0.0</td>\n",
       "      <td>0.0</td>\n",
       "      <td>0.0</td>\n",
       "      <td>0.0</td>\n",
       "      <td>0.0</td>\n",
       "      <td>0.0</td>\n",
       "      <td>0.0</td>\n",
       "      <td>...</td>\n",
       "      <td>0.0</td>\n",
       "      <td>0.0</td>\n",
       "      <td>0.0</td>\n",
       "      <td>0.0</td>\n",
       "      <td>0.0</td>\n",
       "      <td>0.0</td>\n",
       "      <td>0.0</td>\n",
       "      <td>0.0</td>\n",
       "      <td>0.0</td>\n",
       "      <td>0.0</td>\n",
       "    </tr>\n",
       "    <tr>\n",
       "      <th>84 Charing Cross Road</th>\n",
       "      <td>0.0</td>\n",
       "      <td>0.0</td>\n",
       "      <td>0.0</td>\n",
       "      <td>0.0</td>\n",
       "      <td>0.0</td>\n",
       "      <td>0.0</td>\n",
       "      <td>0.0</td>\n",
       "      <td>0.0</td>\n",
       "      <td>0.0</td>\n",
       "      <td>0.0</td>\n",
       "      <td>...</td>\n",
       "      <td>0.0</td>\n",
       "      <td>0.0</td>\n",
       "      <td>0.0</td>\n",
       "      <td>0.0</td>\n",
       "      <td>0.0</td>\n",
       "      <td>10.0</td>\n",
       "      <td>0.0</td>\n",
       "      <td>0.0</td>\n",
       "      <td>0.0</td>\n",
       "      <td>0.0</td>\n",
       "    </tr>\n",
       "    <tr>\n",
       "      <th>...</th>\n",
       "      <td>...</td>\n",
       "      <td>...</td>\n",
       "      <td>...</td>\n",
       "      <td>...</td>\n",
       "      <td>...</td>\n",
       "      <td>...</td>\n",
       "      <td>...</td>\n",
       "      <td>...</td>\n",
       "      <td>...</td>\n",
       "      <td>...</td>\n",
       "      <td>...</td>\n",
       "      <td>...</td>\n",
       "      <td>...</td>\n",
       "      <td>...</td>\n",
       "      <td>...</td>\n",
       "      <td>...</td>\n",
       "      <td>...</td>\n",
       "      <td>...</td>\n",
       "      <td>...</td>\n",
       "      <td>...</td>\n",
       "      <td>...</td>\n",
       "    </tr>\n",
       "    <tr>\n",
       "      <th>Year of Wonders</th>\n",
       "      <td>0.0</td>\n",
       "      <td>0.0</td>\n",
       "      <td>0.0</td>\n",
       "      <td>7.0</td>\n",
       "      <td>0.0</td>\n",
       "      <td>0.0</td>\n",
       "      <td>0.0</td>\n",
       "      <td>0.0</td>\n",
       "      <td>7.0</td>\n",
       "      <td>0.0</td>\n",
       "      <td>...</td>\n",
       "      <td>0.0</td>\n",
       "      <td>0.0</td>\n",
       "      <td>0.0</td>\n",
       "      <td>0.0</td>\n",
       "      <td>0.0</td>\n",
       "      <td>0.0</td>\n",
       "      <td>0.0</td>\n",
       "      <td>0.0</td>\n",
       "      <td>0.0</td>\n",
       "      <td>0.0</td>\n",
       "    </tr>\n",
       "    <tr>\n",
       "      <th>You Belong To Me</th>\n",
       "      <td>0.0</td>\n",
       "      <td>0.0</td>\n",
       "      <td>0.0</td>\n",
       "      <td>0.0</td>\n",
       "      <td>0.0</td>\n",
       "      <td>0.0</td>\n",
       "      <td>0.0</td>\n",
       "      <td>0.0</td>\n",
       "      <td>0.0</td>\n",
       "      <td>0.0</td>\n",
       "      <td>...</td>\n",
       "      <td>0.0</td>\n",
       "      <td>0.0</td>\n",
       "      <td>0.0</td>\n",
       "      <td>0.0</td>\n",
       "      <td>0.0</td>\n",
       "      <td>0.0</td>\n",
       "      <td>0.0</td>\n",
       "      <td>0.0</td>\n",
       "      <td>0.0</td>\n",
       "      <td>0.0</td>\n",
       "    </tr>\n",
       "    <tr>\n",
       "      <th>Zen and the Art of Motorcycle Maintenance: An Inquiry into Values</th>\n",
       "      <td>0.0</td>\n",
       "      <td>0.0</td>\n",
       "      <td>0.0</td>\n",
       "      <td>0.0</td>\n",
       "      <td>0.0</td>\n",
       "      <td>0.0</td>\n",
       "      <td>0.0</td>\n",
       "      <td>0.0</td>\n",
       "      <td>0.0</td>\n",
       "      <td>0.0</td>\n",
       "      <td>...</td>\n",
       "      <td>0.0</td>\n",
       "      <td>0.0</td>\n",
       "      <td>0.0</td>\n",
       "      <td>0.0</td>\n",
       "      <td>0.0</td>\n",
       "      <td>0.0</td>\n",
       "      <td>0.0</td>\n",
       "      <td>0.0</td>\n",
       "      <td>0.0</td>\n",
       "      <td>0.0</td>\n",
       "    </tr>\n",
       "    <tr>\n",
       "      <th>Zoya</th>\n",
       "      <td>0.0</td>\n",
       "      <td>0.0</td>\n",
       "      <td>0.0</td>\n",
       "      <td>0.0</td>\n",
       "      <td>0.0</td>\n",
       "      <td>0.0</td>\n",
       "      <td>0.0</td>\n",
       "      <td>0.0</td>\n",
       "      <td>0.0</td>\n",
       "      <td>0.0</td>\n",
       "      <td>...</td>\n",
       "      <td>0.0</td>\n",
       "      <td>0.0</td>\n",
       "      <td>0.0</td>\n",
       "      <td>0.0</td>\n",
       "      <td>0.0</td>\n",
       "      <td>0.0</td>\n",
       "      <td>0.0</td>\n",
       "      <td>0.0</td>\n",
       "      <td>0.0</td>\n",
       "      <td>0.0</td>\n",
       "    </tr>\n",
       "    <tr>\n",
       "      <th>\\O\\\" Is for Outlaw\"</th>\n",
       "      <td>0.0</td>\n",
       "      <td>0.0</td>\n",
       "      <td>0.0</td>\n",
       "      <td>0.0</td>\n",
       "      <td>0.0</td>\n",
       "      <td>0.0</td>\n",
       "      <td>0.0</td>\n",
       "      <td>0.0</td>\n",
       "      <td>0.0</td>\n",
       "      <td>0.0</td>\n",
       "      <td>...</td>\n",
       "      <td>0.0</td>\n",
       "      <td>0.0</td>\n",
       "      <td>8.0</td>\n",
       "      <td>0.0</td>\n",
       "      <td>0.0</td>\n",
       "      <td>0.0</td>\n",
       "      <td>0.0</td>\n",
       "      <td>0.0</td>\n",
       "      <td>0.0</td>\n",
       "      <td>0.0</td>\n",
       "    </tr>\n",
       "  </tbody>\n",
       "</table>\n",
       "<p>742 rows × 888 columns</p>\n",
       "</div>"
      ],
      "text/plain": [
       "user_id                                             254     2276    2766    \\\n",
       "book_title                                                                   \n",
       "1984                                                   9.0     0.0     0.0   \n",
       "1st to Die: A Novel                                    0.0     0.0     0.0   \n",
       "2nd Chance                                             0.0    10.0     0.0   \n",
       "4 Blondes                                              0.0     0.0     0.0   \n",
       "84 Charing Cross Road                                  0.0     0.0     0.0   \n",
       "...                                                    ...     ...     ...   \n",
       "Year of Wonders                                        0.0     0.0     0.0   \n",
       "You Belong To Me                                       0.0     0.0     0.0   \n",
       "Zen and the Art of Motorcycle Maintenance: An I...     0.0     0.0     0.0   \n",
       "Zoya                                                   0.0     0.0     0.0   \n",
       "\\O\\\" Is for Outlaw\"                                    0.0     0.0     0.0   \n",
       "\n",
       "user_id                                             2977    3363    3757    \\\n",
       "book_title                                                                   \n",
       "1984                                                   0.0     0.0     0.0   \n",
       "1st to Die: A Novel                                    0.0     0.0     0.0   \n",
       "2nd Chance                                             0.0     0.0     0.0   \n",
       "4 Blondes                                              0.0     0.0     0.0   \n",
       "84 Charing Cross Road                                  0.0     0.0     0.0   \n",
       "...                                                    ...     ...     ...   \n",
       "Year of Wonders                                        7.0     0.0     0.0   \n",
       "You Belong To Me                                       0.0     0.0     0.0   \n",
       "Zen and the Art of Motorcycle Maintenance: An I...     0.0     0.0     0.0   \n",
       "Zoya                                                   0.0     0.0     0.0   \n",
       "\\O\\\" Is for Outlaw\"                                    0.0     0.0     0.0   \n",
       "\n",
       "user_id                                             4017    4385    6242    \\\n",
       "book_title                                                                   \n",
       "1984                                                   0.0     0.0     0.0   \n",
       "1st to Die: A Novel                                    0.0     0.0     0.0   \n",
       "2nd Chance                                             0.0     0.0     0.0   \n",
       "4 Blondes                                              0.0     0.0     0.0   \n",
       "84 Charing Cross Road                                  0.0     0.0     0.0   \n",
       "...                                                    ...     ...     ...   \n",
       "Year of Wonders                                        0.0     0.0     7.0   \n",
       "You Belong To Me                                       0.0     0.0     0.0   \n",
       "Zen and the Art of Motorcycle Maintenance: An I...     0.0     0.0     0.0   \n",
       "Zoya                                                   0.0     0.0     0.0   \n",
       "\\O\\\" Is for Outlaw\"                                    0.0     0.0     0.0   \n",
       "\n",
       "user_id                                             6251    ...  274004  \\\n",
       "book_title                                                  ...           \n",
       "1984                                                   0.0  ...     0.0   \n",
       "1st to Die: A Novel                                    0.0  ...     0.0   \n",
       "2nd Chance                                             0.0  ...     0.0   \n",
       "4 Blondes                                              0.0  ...     0.0   \n",
       "84 Charing Cross Road                                  0.0  ...     0.0   \n",
       "...                                                    ...  ...     ...   \n",
       "Year of Wonders                                        0.0  ...     0.0   \n",
       "You Belong To Me                                       0.0  ...     0.0   \n",
       "Zen and the Art of Motorcycle Maintenance: An I...     0.0  ...     0.0   \n",
       "Zoya                                                   0.0  ...     0.0   \n",
       "\\O\\\" Is for Outlaw\"                                    0.0  ...     0.0   \n",
       "\n",
       "user_id                                             274061  274301  274308  \\\n",
       "book_title                                                                   \n",
       "1984                                                   0.0     0.0     0.0   \n",
       "1st to Die: A Novel                                    0.0     0.0     0.0   \n",
       "2nd Chance                                             0.0     0.0     0.0   \n",
       "4 Blondes                                              0.0     0.0     0.0   \n",
       "84 Charing Cross Road                                  0.0     0.0     0.0   \n",
       "...                                                    ...     ...     ...   \n",
       "Year of Wonders                                        0.0     0.0     0.0   \n",
       "You Belong To Me                                       0.0     0.0     0.0   \n",
       "Zen and the Art of Motorcycle Maintenance: An I...     0.0     0.0     0.0   \n",
       "Zoya                                                   0.0     0.0     0.0   \n",
       "\\O\\\" Is for Outlaw\"                                    0.0     8.0     0.0   \n",
       "\n",
       "user_id                                             274808  275970  277427  \\\n",
       "book_title                                                                   \n",
       "1984                                                   0.0     0.0     0.0   \n",
       "1st to Die: A Novel                                    0.0     0.0     0.0   \n",
       "2nd Chance                                             0.0     0.0     0.0   \n",
       "4 Blondes                                              0.0     0.0     0.0   \n",
       "84 Charing Cross Road                                  0.0    10.0     0.0   \n",
       "...                                                    ...     ...     ...   \n",
       "Year of Wonders                                        0.0     0.0     0.0   \n",
       "You Belong To Me                                       0.0     0.0     0.0   \n",
       "Zen and the Art of Motorcycle Maintenance: An I...     0.0     0.0     0.0   \n",
       "Zoya                                                   0.0     0.0     0.0   \n",
       "\\O\\\" Is for Outlaw\"                                    0.0     0.0     0.0   \n",
       "\n",
       "user_id                                             277478  277639  278418  \n",
       "book_title                                                                  \n",
       "1984                                                   0.0     0.0     0.0  \n",
       "1st to Die: A Novel                                    0.0     0.0     0.0  \n",
       "2nd Chance                                             0.0     0.0     0.0  \n",
       "4 Blondes                                              0.0     0.0     0.0  \n",
       "84 Charing Cross Road                                  0.0     0.0     0.0  \n",
       "...                                                    ...     ...     ...  \n",
       "Year of Wonders                                        0.0     0.0     0.0  \n",
       "You Belong To Me                                       0.0     0.0     0.0  \n",
       "Zen and the Art of Motorcycle Maintenance: An I...     0.0     0.0     0.0  \n",
       "Zoya                                                   0.0     0.0     0.0  \n",
       "\\O\\\" Is for Outlaw\"                                    0.0     0.0     0.0  \n",
       "\n",
       "[742 rows x 888 columns]"
      ]
     },
     "execution_count": 56,
     "metadata": {},
     "output_type": "execute_result"
    }
   ],
   "source": [
    "final_pivot"
   ]
  },
  {
   "cell_type": "code",
   "execution_count": 57,
   "id": "4203eb1f-5583-4e90-970f-f2dcb2ff418c",
   "metadata": {},
   "outputs": [
    {
     "data": {
      "text/plain": [
       "(742, 742)"
      ]
     },
     "execution_count": 57,
     "metadata": {},
     "output_type": "execute_result"
    }
   ],
   "source": [
    "from sklearn.metrics.pairwise import cosine_similarity\n",
    "similarity_score = cosine_similarity(final_pivot)  # it's hold a eucladian dist. of every books of 888 dimentional space\n",
    "similarity_score.shape"
   ]
  },
  {
   "cell_type": "code",
   "execution_count": 58,
   "id": "5f5ed30b-b311-402f-8050-0551d089f1aa",
   "metadata": {},
   "outputs": [
    {
     "data": {
      "text/plain": [
       "array([[1.        , 0.07624004, 0.        , ..., 0.09387814, 0.04480685,\n",
       "        0.03286937],\n",
       "       [0.07624004, 1.        , 0.24424725, ..., 0.07424784, 0.16365457,\n",
       "        0.15050832],\n",
       "       [0.        , 0.24424725, 1.        , ..., 0.0432679 , 0.04617844,\n",
       "        0.10992264],\n",
       "       ...,\n",
       "       [0.09387814, 0.07424784, 0.0432679 , ..., 1.        , 0.07085128,\n",
       "        0.03898126],\n",
       "       [0.04480685, 0.16365457, 0.04617844, ..., 0.07085128, 1.        ,\n",
       "        0.13208788],\n",
       "       [0.03286937, 0.15050832, 0.10992264, ..., 0.03898126, 0.13208788,\n",
       "        1.        ]])"
      ]
     },
     "execution_count": 58,
     "metadata": {},
     "output_type": "execute_result"
    }
   ],
   "source": [
    "similarity_score\n",
    "# important note : similarity_score is a numpy array which doesnot hold the index name (here books name) so we need to pass the index of the book name (like book_[0] = 'attack on titan')"
   ]
  },
  {
   "cell_type": "code",
   "execution_count": 149,
   "id": "1f0667af-757e-43fc-8a80-b27765858e70",
   "metadata": {},
   "outputs": [],
   "source": [
    "def recommend_books(book_name):\n",
    "    index = final_pivot.index.get_loc(book_name) # taking the index position\n",
    "    similar_items = sorted(list(enumerate(similarity_score[index])) ,key = lambda x:x[1] ,reverse = True)[1:6]\n",
    "   \n",
    "    # Filter final_ratings to get rows where book_title is in final_pivot.index[i[0]] for i in some_iterable\n",
    "    filtered_df = final_ratings[final_ratings['book_title'].isin([final_pivot.index[i[0]] for i in similar_items])]\n",
    "    \n",
    "    # Remove duplicates based on book_title, keeping the first occurrence\n",
    "    filtered_df = filtered_df.drop_duplicates(['book_title']).drop(columns=['isbn','year_of_publication','user_id','publisher'])\n",
    "        \n",
    "    return filtered_df"
   ]
  },
  {
   "cell_type": "code",
   "execution_count": 151,
   "id": "25960010-a495-426b-9ac3-7226ab1290d5",
   "metadata": {},
   "outputs": [
    {
     "data": {
      "text/html": [
       "<div>\n",
       "<style scoped>\n",
       "    .dataframe tbody tr th:only-of-type {\n",
       "        vertical-align: middle;\n",
       "    }\n",
       "\n",
       "    .dataframe tbody tr th {\n",
       "        vertical-align: top;\n",
       "    }\n",
       "\n",
       "    .dataframe thead th {\n",
       "        text-align: right;\n",
       "    }\n",
       "</style>\n",
       "<table border=\"1\" class=\"dataframe\">\n",
       "  <thead>\n",
       "    <tr style=\"text-align: right;\">\n",
       "      <th></th>\n",
       "      <th>book_title</th>\n",
       "      <th>book_author</th>\n",
       "      <th>image_url_s</th>\n",
       "      <th>image_url_m</th>\n",
       "      <th>image_url_l</th>\n",
       "      <th>book_rating</th>\n",
       "      <th>number_of_ratings</th>\n",
       "    </tr>\n",
       "  </thead>\n",
       "  <tbody>\n",
       "    <tr>\n",
       "      <th>11223</th>\n",
       "      <td>River's End</td>\n",
       "      <td>Nora Roberts</td>\n",
       "      <td>http://images.amazon.com/images/P/0515127833.0...</td>\n",
       "      <td>http://images.amazon.com/images/P/0515127833.0...</td>\n",
       "      <td>http://images.amazon.com/images/P/0515127833.0...</td>\n",
       "      <td>0</td>\n",
       "      <td>77</td>\n",
       "    </tr>\n",
       "    <tr>\n",
       "      <th>14593</th>\n",
       "      <td>Nights in Rodanthe</td>\n",
       "      <td>Nicholas Sparks</td>\n",
       "      <td>http://images.amazon.com/images/P/0446531332.0...</td>\n",
       "      <td>http://images.amazon.com/images/P/0446531332.0...</td>\n",
       "      <td>http://images.amazon.com/images/P/0446531332.0...</td>\n",
       "      <td>0</td>\n",
       "      <td>62</td>\n",
       "    </tr>\n",
       "    <tr>\n",
       "      <th>57906</th>\n",
       "      <td>The Mulberry Tree</td>\n",
       "      <td>Jude Deveraux</td>\n",
       "      <td>http://images.amazon.com/images/P/0743437640.0...</td>\n",
       "      <td>http://images.amazon.com/images/P/0743437640.0...</td>\n",
       "      <td>http://images.amazon.com/images/P/0743437640.0...</td>\n",
       "      <td>3</td>\n",
       "      <td>69</td>\n",
       "    </tr>\n",
       "    <tr>\n",
       "      <th>67893</th>\n",
       "      <td>A Walk to Remember</td>\n",
       "      <td>Nicholas Sparks</td>\n",
       "      <td>http://images.amazon.com/images/P/0446608955.0...</td>\n",
       "      <td>http://images.amazon.com/images/P/0446608955.0...</td>\n",
       "      <td>http://images.amazon.com/images/P/0446608955.0...</td>\n",
       "      <td>0</td>\n",
       "      <td>137</td>\n",
       "    </tr>\n",
       "    <tr>\n",
       "      <th>142824</th>\n",
       "      <td>Sanctuary</td>\n",
       "      <td>Nora Roberts</td>\n",
       "      <td>http://images.amazon.com/images/P/0515122734.0...</td>\n",
       "      <td>http://images.amazon.com/images/P/0515122734.0...</td>\n",
       "      <td>http://images.amazon.com/images/P/0515122734.0...</td>\n",
       "      <td>10</td>\n",
       "      <td>78</td>\n",
       "    </tr>\n",
       "  </tbody>\n",
       "</table>\n",
       "</div>"
      ],
      "text/plain": [
       "                book_title      book_author  \\\n",
       "11223          River's End     Nora Roberts   \n",
       "14593   Nights in Rodanthe  Nicholas Sparks   \n",
       "57906    The Mulberry Tree    Jude Deveraux   \n",
       "67893   A Walk to Remember  Nicholas Sparks   \n",
       "142824           Sanctuary     Nora Roberts   \n",
       "\n",
       "                                              image_url_s  \\\n",
       "11223   http://images.amazon.com/images/P/0515127833.0...   \n",
       "14593   http://images.amazon.com/images/P/0446531332.0...   \n",
       "57906   http://images.amazon.com/images/P/0743437640.0...   \n",
       "67893   http://images.amazon.com/images/P/0446608955.0...   \n",
       "142824  http://images.amazon.com/images/P/0515122734.0...   \n",
       "\n",
       "                                              image_url_m  \\\n",
       "11223   http://images.amazon.com/images/P/0515127833.0...   \n",
       "14593   http://images.amazon.com/images/P/0446531332.0...   \n",
       "57906   http://images.amazon.com/images/P/0743437640.0...   \n",
       "67893   http://images.amazon.com/images/P/0446608955.0...   \n",
       "142824  http://images.amazon.com/images/P/0515122734.0...   \n",
       "\n",
       "                                              image_url_l  book_rating  \\\n",
       "11223   http://images.amazon.com/images/P/0515127833.0...            0   \n",
       "14593   http://images.amazon.com/images/P/0446531332.0...            0   \n",
       "57906   http://images.amazon.com/images/P/0743437640.0...            3   \n",
       "67893   http://images.amazon.com/images/P/0446608955.0...            0   \n",
       "142824  http://images.amazon.com/images/P/0515122734.0...           10   \n",
       "\n",
       "        number_of_ratings  \n",
       "11223                  77  \n",
       "14593                  62  \n",
       "57906                  69  \n",
       "67893                 137  \n",
       "142824                 78  "
      ]
     },
     "execution_count": 151,
     "metadata": {},
     "output_type": "execute_result"
    }
   ],
   "source": [
    "recommend_books('Message in a Bottle')"
   ]
  },
  {
   "cell_type": "code",
   "execution_count": null,
   "id": "caa4c356-e298-4022-b0a1-51815f2e9c69",
   "metadata": {},
   "outputs": [],
   "source": [
    "## Converting final_pivot , similarity_score ,final_ratings to pkl for recommendations for web-in."
   ]
  },
  {
   "cell_type": "code",
   "execution_count": 153,
   "id": "981695f1-b975-4110-8359-7541f5795e5b",
   "metadata": {},
   "outputs": [],
   "source": [
    "\n",
    "pickle.dump(final_pivot,open('final_pivot.pkl','wb'))\n",
    "pickle.dump(similarity_score,open('similarity_score.pkl','wb'))\n",
    "pickle.dump(final_ratings,open('final_ratings.pkl','wb'))\n"
   ]
  }
 ],
 "metadata": {
  "kernelspec": {
   "display_name": "Python [conda env:base] *",
   "language": "python",
   "name": "conda-base-py"
  },
  "language_info": {
   "codemirror_mode": {
    "name": "ipython",
    "version": 3
   },
   "file_extension": ".py",
   "mimetype": "text/x-python",
   "name": "python",
   "nbconvert_exporter": "python",
   "pygments_lexer": "ipython3",
   "version": "3.11.9"
  }
 },
 "nbformat": 4,
 "nbformat_minor": 5
}
